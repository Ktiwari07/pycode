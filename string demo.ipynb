{
 "cells": [
  {
   "cell_type": "code",
   "execution_count": 75,
   "id": "f1825332",
   "metadata": {},
   "outputs": [
    {
     "name": "stdout",
     "output_type": "stream",
     "text": [
      "hello\n",
      "red\n",
      "yello\n",
      "green\n",
      "tetra\n",
      "['apple', '3f45', 45, 56, 'mango', [4, 45, 66]]\n",
      "['3f45', 45, 56, 'mango', [4, 45, 66]]\n",
      "['3f45', 45, 56, 'mango', [4, 45, 66], '12', 5, 'hello']\n"
     ]
    },
    {
     "ename": "AttributeError",
     "evalue": "'list' object has no attribute 'find'",
     "output_type": "error",
     "traceback": [
      "\u001b[1;31m---------------------------------------------------------------------------\u001b[0m",
      "\u001b[1;31mAttributeError\u001b[0m                            Traceback (most recent call last)",
      "\u001b[1;32mC:\\Users\\MANMOH~1\\AppData\\Local\\Temp/ipykernel_668/2412403431.py\u001b[0m in \u001b[0;36m<module>\u001b[1;34m\u001b[0m\n\u001b[0;32m     14\u001b[0m \u001b[0mlist1\u001b[0m\u001b[1;33m.\u001b[0m\u001b[0mappend\u001b[0m\u001b[1;33m(\u001b[0m\u001b[1;34m\"hello\"\u001b[0m\u001b[1;33m)\u001b[0m\u001b[1;33m\u001b[0m\u001b[1;33m\u001b[0m\u001b[0m\n\u001b[0;32m     15\u001b[0m \u001b[0mprint\u001b[0m\u001b[1;33m(\u001b[0m\u001b[0mlist1\u001b[0m\u001b[1;33m)\u001b[0m\u001b[1;33m\u001b[0m\u001b[1;33m\u001b[0m\u001b[0m\n\u001b[1;32m---> 16\u001b[1;33m \u001b[0mlist1\u001b[0m\u001b[1;33m.\u001b[0m\u001b[0mfind\u001b[0m\u001b[1;33m(\u001b[0m\u001b[1;34m'apple'\u001b[0m\u001b[1;33m)\u001b[0m\u001b[1;33m\u001b[0m\u001b[1;33m\u001b[0m\u001b[0m\n\u001b[0m",
      "\u001b[1;31mAttributeError\u001b[0m: 'list' object has no attribute 'find'"
     ]
    }
   ],
   "source": [
    "print('hello')\n",
    "import numpy as n;\n",
    "a=[1,8,9,34,45]\n",
    "for b in ['red','yello','green','tetra']:\n",
    "    print(b)\n",
    "    \n",
    "\n",
    "list1=['apple','3f45',45,56,'mango',[4,45,66]]\n",
    "print(list1)\n",
    "list1.remove('apple');\n",
    "print(list1)\n",
    "list1.insert(9,'12')\n",
    "list1.insert(len(list1),5)\n",
    "list1.append(\"hello\")\n",
    "print(list1)\n",
    "list1.find('apple')\n"
   ]
  },
  {
   "cell_type": "code",
   "execution_count": 8,
   "id": "1947baa3",
   "metadata": {},
   "outputs": [
    {
     "ename": "NameError",
     "evalue": "name 's' is not defined",
     "output_type": "error",
     "traceback": [
      "\u001b[1;31m---------------------------------------------------------------------------\u001b[0m",
      "\u001b[1;31mNameError\u001b[0m                                 Traceback (most recent call last)",
      "\u001b[1;32mC:\\Users\\MANMOH~1\\AppData\\Local\\Temp/ipykernel_668/2638863538.py\u001b[0m in \u001b[0;36m<module>\u001b[1;34m\u001b[0m\n\u001b[1;32m----> 1\u001b[1;33m \u001b[0mb\u001b[0m\u001b[1;33m=\u001b[0m\u001b[0ms\u001b[0m \u001b[1;32min\u001b[0m \u001b[0mrange\u001b[0m\u001b[1;33m(\u001b[0m\u001b[1;36m6\u001b[0m\u001b[1;33m)\u001b[0m\u001b[1;33m\u001b[0m\u001b[1;33m\u001b[0m\u001b[0m\n\u001b[0m\u001b[0;32m      2\u001b[0m \u001b[0mprint\u001b[0m\u001b[1;33m(\u001b[0m\u001b[0mb\u001b[0m\u001b[1;33m)\u001b[0m\u001b[1;33m\u001b[0m\u001b[1;33m\u001b[0m\u001b[0m\n",
      "\u001b[1;31mNameError\u001b[0m: name 's' is not defined"
     ]
    }
   ],
   "source": [
    "b=s in range(6)\n",
    "print(b)"
   ]
  },
  {
   "cell_type": "code",
   "execution_count": 9,
   "id": "c6a8d5ad",
   "metadata": {},
   "outputs": [
    {
     "name": "stdout",
     "output_type": "stream",
     "text": [
      "11\n"
     ]
    }
   ],
   "source": [
    "#REPL read eveluate  print loop\n",
    "\n",
    "print(3+8)"
   ]
  },
  {
   "cell_type": "code",
   "execution_count": 53,
   "id": "29ffd051",
   "metadata": {},
   "outputs": [
    {
     "name": "stdout",
     "output_type": "stream",
     "text": [
      "manmohankrishna\n"
     ]
    },
    {
     "data": {
      "text/plain": [
       "'            Tiwari Krishna                                                                '"
      ]
     },
     "execution_count": 53,
     "metadata": {},
     "output_type": "execute_result"
    }
   ],
   "source": [
    "a,b='manmohan','krishna'\n",
    "type(a),type(b)\n",
    "print(a+b)\n",
    "len(a),len(b)\n",
    "i='            Tiwari Krishna'\n",
    "i.lower()\n",
    "i.upper()\n",
    "i.rjust(80)\n",
    "i.rjust(len(i))\n",
    "j=i.ljust(90)\n",
    "j"
   ]
  },
  {
   "cell_type": "code",
   "execution_count": 56,
   "id": "3846ea20",
   "metadata": {},
   "outputs": [
    {
     "data": {
      "text/plain": [
       "'Tiwari Krishna'"
      ]
     },
     "execution_count": 56,
     "metadata": {},
     "output_type": "execute_result"
    }
   ],
   "source": [
    "i.lstrip()"
   ]
  },
  {
   "cell_type": "code",
   "execution_count": 58,
   "id": "ffc29239",
   "metadata": {},
   "outputs": [
    {
     "data": {
      "text/plain": [
       "'Bh1mtal to Na1n1tal and then Bhowal1 to Almora'"
      ]
     },
     "execution_count": 58,
     "metadata": {},
     "output_type": "execute_result"
    }
   ],
   "source": [
    "#replace certain character\n",
    "a='Bhimtal to Nainital and then Bhowali to Almora'\n",
    "a.replace('i','1')"
   ]
  },
  {
   "cell_type": "code",
   "execution_count": 59,
   "id": "06ea5939",
   "metadata": {},
   "outputs": [
    {
     "data": {
      "text/plain": [
       "['Bhimt', 'l to N', 'init', 'l ', 'nd then Bhow', 'li to Almor', '']"
      ]
     },
     "execution_count": 59,
     "metadata": {},
     "output_type": "execute_result"
    }
   ],
   "source": [
    "#split the string, this return the list\n",
    "a.split('a')"
   ]
  },
  {
   "cell_type": "code",
   "execution_count": 60,
   "id": "f26b15e8",
   "metadata": {},
   "outputs": [
    {
     "data": {
      "text/plain": [
       "['Bh', 'mtal to Na', 'n', 'tal and then Bhowal', ' to Almora']"
      ]
     },
     "execution_count": 60,
     "metadata": {},
     "output_type": "execute_result"
    }
   ],
   "source": [
    "a.split('i')"
   ]
  },
  {
   "cell_type": "code",
   "execution_count": 61,
   "id": "acde0935",
   "metadata": {},
   "outputs": [
    {
     "data": {
      "text/plain": [
       "list"
      ]
     },
     "execution_count": 61,
     "metadata": {},
     "output_type": "execute_result"
    }
   ],
   "source": [
    "type(a.split(i)) #this return a list"
   ]
  },
  {
   "cell_type": "code",
   "execution_count": 77,
   "id": "f2263306",
   "metadata": {},
   "outputs": [
    {
     "data": {
      "text/plain": [
       "'war'"
      ]
     },
     "execution_count": 77,
     "metadata": {},
     "output_type": "execute_result"
    }
   ],
   "source": [
    "x='hello krishna Chandra tiwari'\n",
    "x[2]\n",
    "len(x)\n",
    "x[-12:-8]\n",
    "x[-4:-1]\n",
    "\n"
   ]
  },
  {
   "cell_type": "code",
   "execution_count": 81,
   "id": "91310220",
   "metadata": {},
   "outputs": [
    {
     "data": {
      "text/plain": [
       "'lo krishna Chandr'"
      ]
     },
     "execution_count": 81,
     "metadata": {},
     "output_type": "execute_result"
    }
   ],
   "source": [
    "x[:9]\n",
    "x[3:-8]"
   ]
  },
  {
   "cell_type": "code",
   "execution_count": null,
   "id": "0fc1d4ca",
   "metadata": {},
   "outputs": [],
   "source": []
  }
 ],
 "metadata": {
  "kernelspec": {
   "display_name": "Python 3 (ipykernel)",
   "language": "python",
   "name": "python3"
  },
  "language_info": {
   "codemirror_mode": {
    "name": "ipython",
    "version": 3
   },
   "file_extension": ".py",
   "mimetype": "text/x-python",
   "name": "python",
   "nbconvert_exporter": "python",
   "pygments_lexer": "ipython3",
   "version": "3.9.7"
  }
 },
 "nbformat": 4,
 "nbformat_minor": 5
}
